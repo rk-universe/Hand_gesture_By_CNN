{
 "cells": [
  {
   "cell_type": "code",
   "execution_count": 1,
   "id": "08307250",
   "metadata": {},
   "outputs": [],
   "source": [
    "import tensorflow as tf"
   ]
  },
  {
   "cell_type": "code",
   "execution_count": 2,
   "id": "5608a93b",
   "metadata": {},
   "outputs": [
    {
     "name": "stdout",
     "output_type": "stream",
     "text": [
      "Found 600 files belonging to 3 classes.\n"
     ]
    }
   ],
   "source": [
    "data=tf.keras.utils.image_dataset_from_directory('data')"
   ]
  },
  {
   "cell_type": "code",
   "execution_count": 3,
   "id": "78e0ab1b",
   "metadata": {},
   "outputs": [],
   "source": [
    "import numpy as np\n",
    "import matplotlib.pyplot as plt\n",
    "import cv2"
   ]
  },
  {
   "cell_type": "code",
   "execution_count": 4,
   "id": "f3146830",
   "metadata": {},
   "outputs": [],
   "source": [
    "scalled_data = data.map(lambda x,y: (x/255,y))"
   ]
  },
  {
   "cell_type": "code",
   "execution_count": 5,
   "id": "dee10e8a",
   "metadata": {},
   "outputs": [],
   "source": [
    "scalled_itterator=scalled_data.as_numpy_iterator()"
   ]
  },
  {
   "cell_type": "code",
   "execution_count": 6,
   "id": "c61b7dd6",
   "metadata": {},
   "outputs": [],
   "source": [
    "train_size=int(len(scalled_data)*.7)\n",
    "val_size=int(len(scalled_data)*.1)+1\n",
    "text_size=int(len(scalled_data)*.2)+1"
   ]
  },
  {
   "cell_type": "code",
   "execution_count": 7,
   "id": "996c0103",
   "metadata": {},
   "outputs": [
    {
     "data": {
      "text/plain": [
       "(13, 2, 4)"
      ]
     },
     "execution_count": 7,
     "metadata": {},
     "output_type": "execute_result"
    }
   ],
   "source": [
    "train_size,val_size,text_size"
   ]
  },
  {
   "cell_type": "code",
   "execution_count": 8,
   "id": "ad95e084",
   "metadata": {},
   "outputs": [],
   "source": [
    "train=data.take(train_size)\n",
    "val=data.skip(train_size).take(val_size)\n",
    "text=data.skip(train_size+val_size).take(text_size)"
   ]
  },
  {
   "cell_type": "code",
   "execution_count": 9,
   "id": "d1b7a985",
   "metadata": {},
   "outputs": [
    {
     "data": {
      "text/plain": [
       "(13, 2, 4)"
      ]
     },
     "execution_count": 9,
     "metadata": {},
     "output_type": "execute_result"
    }
   ],
   "source": [
    "len(train),len(val),len(text)"
   ]
  },
  {
   "cell_type": "code",
   "execution_count": 10,
   "id": "91b5d1b0",
   "metadata": {},
   "outputs": [],
   "source": [
    "from tensorflow.keras.models import Sequential\n",
    "from tensorflow.keras.layers import Conv2D,MaxPooling2D,Dense,Flatten,Dropout"
   ]
  },
  {
   "cell_type": "code",
   "execution_count": 11,
   "id": "b82b282e",
   "metadata": {},
   "outputs": [],
   "source": [
    "model = Sequential()"
   ]
  },
  {
   "cell_type": "code",
   "execution_count": 12,
   "id": "f041902b",
   "metadata": {},
   "outputs": [],
   "source": [
    "\n",
    "model.add(Conv2D(16,(3,3),1,activation='relu',input_shape=(256,256,3)))\n",
    "model.add(MaxPooling2D())\n",
    "\n",
    "model.add(Conv2D(32,(3,3),1,activation='relu'))\n",
    "model.add(MaxPooling2D())\n",
    "\n",
    "model.add(Conv2D(16,(3,3),1,activation='relu'))\n",
    "model.add(MaxPooling2D())\n",
    "\n",
    "model.add(Flatten())\n",
    "\n",
    "model.add(Dropout(0.3))\n",
    "\n",
    "model.add(Dense(256,activation='relu'))\n",
    "model.add(Dense(units=3, activation='softmax'))"
   ]
  },
  {
   "cell_type": "code",
   "execution_count": 13,
   "id": "3da75d2d",
   "metadata": {},
   "outputs": [
    {
     "name": "stdout",
     "output_type": "stream",
     "text": [
      "Model: \"sequential\"\n",
      "_________________________________________________________________\n",
      " Layer (type)                Output Shape              Param #   \n",
      "=================================================================\n",
      " conv2d (Conv2D)             (None, 254, 254, 16)      448       \n",
      "                                                                 \n",
      " max_pooling2d (MaxPooling2D  (None, 127, 127, 16)     0         \n",
      " )                                                               \n",
      "                                                                 \n",
      " conv2d_1 (Conv2D)           (None, 125, 125, 32)      4640      \n",
      "                                                                 \n",
      " max_pooling2d_1 (MaxPooling  (None, 62, 62, 32)       0         \n",
      " 2D)                                                             \n",
      "                                                                 \n",
      " conv2d_2 (Conv2D)           (None, 60, 60, 16)        4624      \n",
      "                                                                 \n",
      " max_pooling2d_2 (MaxPooling  (None, 30, 30, 16)       0         \n",
      " 2D)                                                             \n",
      "                                                                 \n",
      " flatten (Flatten)           (None, 14400)             0         \n",
      "                                                                 \n",
      " dropout (Dropout)           (None, 14400)             0         \n",
      "                                                                 \n",
      " dense (Dense)               (None, 256)               3686656   \n",
      "                                                                 \n",
      " dense_1 (Dense)             (None, 3)                 771       \n",
      "                                                                 \n",
      "=================================================================\n",
      "Total params: 3,697,139\n",
      "Trainable params: 3,697,139\n",
      "Non-trainable params: 0\n",
      "_________________________________________________________________\n"
     ]
    }
   ],
   "source": [
    "model.summary()"
   ]
  },
  {
   "cell_type": "code",
   "execution_count": 14,
   "id": "f4cd7752",
   "metadata": {},
   "outputs": [],
   "source": [
    "model.compile('adam',loss=tf.keras.losses.SparseCategoricalCrossentropy(), metrics=['accuracy'])"
   ]
  },
  {
   "cell_type": "code",
   "execution_count": 15,
   "id": "d2127fe6",
   "metadata": {},
   "outputs": [],
   "source": [
    "logdir='logs'"
   ]
  },
  {
   "cell_type": "code",
   "execution_count": 16,
   "id": "ea6d6d61",
   "metadata": {},
   "outputs": [],
   "source": [
    "tensorboard_callback=tf.keras.callbacks.TensorBoard(log_dir=logdir)"
   ]
  },
  {
   "cell_type": "code",
   "execution_count": 17,
   "id": "f2f7bc27",
   "metadata": {},
   "outputs": [
    {
     "name": "stdout",
     "output_type": "stream",
     "text": [
      "Epoch 1/8\n",
      "13/13 [==============================] - 26s 2s/step - loss: 207.1673 - accuracy: 0.6154 - val_loss: 0.4622 - val_accuracy: 0.9531\n",
      "Epoch 2/8\n",
      "13/13 [==============================] - 26s 2s/step - loss: 0.1304 - accuracy: 0.9904 - val_loss: 1.5999e-06 - val_accuracy: 1.0000\n",
      "Epoch 3/8\n",
      "13/13 [==============================] - 23s 2s/step - loss: 0.1579 - accuracy: 0.9832 - val_loss: 0.2207 - val_accuracy: 0.9844\n",
      "Epoch 4/8\n",
      "13/13 [==============================] - 22s 2s/step - loss: 0.0190 - accuracy: 0.9952 - val_loss: 2.8626e-05 - val_accuracy: 1.0000\n",
      "Epoch 5/8\n",
      "13/13 [==============================] - 22s 2s/step - loss: 1.9178e-04 - accuracy: 1.0000 - val_loss: 6.1505e-05 - val_accuracy: 1.0000\n",
      "Epoch 6/8\n",
      "13/13 [==============================] - 22s 2s/step - loss: 6.4104e-06 - accuracy: 1.0000 - val_loss: 2.0489e-08 - val_accuracy: 1.0000\n",
      "Epoch 7/8\n",
      "13/13 [==============================] - 22s 2s/step - loss: 4.5492e-06 - accuracy: 1.0000 - val_loss: 1.0058e-07 - val_accuracy: 1.0000\n",
      "Epoch 8/8\n",
      "13/13 [==============================] - 22s 2s/step - loss: 1.1364e-05 - accuracy: 1.0000 - val_loss: 9.1645e-06 - val_accuracy: 1.0000\n"
     ]
    }
   ],
   "source": [
    "hist=model.fit(train,epochs=8,validation_data=val,callbacks=tensorboard_callback)"
   ]
  },
  {
   "cell_type": "code",
   "execution_count": 18,
   "id": "eef8b46e",
   "metadata": {},
   "outputs": [
    {
     "data": {
      "image/png": "[encoded data removed]",
      "text/plain": [
       "<Figure size 640x480 with 1 Axes>"
      ]
     },
     "metadata": {},
     "output_type": "display_data"
    }
   ],
   "source": [
    "plt.plot(hist.history['loss'],color='teal',label='Loss')\n",
    "plt.plot(hist.history['val_loss'],color='orange',label='val_loss')\n",
    "plt.show()"
   ]
  },
  {
   "cell_type": "code",
   "execution_count": 20,
   "id": "b0b341ba",
   "metadata": {},
   "outputs": [
    {
     "data": {
      "text/plain": [
       "{'loss': [207.16725158691406,\n",
       "  0.13039220869541168,\n",
       "  0.1579018235206604,\n",
       "  0.018972573801875114,\n",
       "  0.00019178184447810054,\n",
       "  6.4104096964001656e-06,\n",
       "  4.549232926365221e-06,\n",
       "  1.1363617886672728e-05],\n",
       " 'accuracy': [0.6153846383094788,\n",
       "  0.9903846383094788,\n",
       "  0.9831730723381042,\n",
       "  0.995192289352417,\n",
       "  1.0,\n",
       "  1.0,\n",
       "  1.0,\n",
       "  1.0],\n",
       " 'val_loss': [0.4621690511703491,\n",
       "  1.5999345350792282e-06,\n",
       "  0.22074559330940247,\n",
       "  2.862607652787119e-05,\n",
       "  6.150506669655442e-05,\n",
       "  2.048908598339949e-08,\n",
       "  1.0058251120881323e-07,\n",
       "  9.164535185846034e-06],\n",
       " 'val_accuracy': [0.953125, 1.0, 0.984375, 1.0, 1.0, 1.0, 1.0, 1.0]}"
      ]
     },
     "execution_count": 20,
     "metadata": {},
     "output_type": "execute_result"
    }
   ],
   "source": [
    "hist.history"
   ]
  },
  {
   "cell_type": "code",
   "execution_count": 21,
   "id": "7322daa8",
   "metadata": {},
   "outputs": [
    {
     "data": {
      "text/plain": [
       "[<matplotlib.lines.Line2D at 0x2738d0c8640>]"
      ]
     },
     "execution_count": 21,
     "metadata": {},
     "output_type": "execute_result"
    },
    {
     "data": {
      "image/png": "[encoded data removed]",
      "text/plain": [
       "<Figure size 640x480 with 1 Axes>"
      ]
     },
     "metadata": {},
     "output_type": "display_data"
    }
   ],
   "source": [
    "plt.plot(hist.history['accuracy'],color='teal',label='Loss')\n",
    "plt.plot(hist.history['val_accuracy'],color='orange',label='val_loss')"
   ]
  },
  {
   "cell_type": "code",
   "execution_count": 22,
   "id": "52a4052a",
   "metadata": {},
   "outputs": [],
   "source": []
  },
  {
   "cell_type": "code",
   "execution_count": 49,
   "id": "c03a3096",
   "metadata": {},
   "outputs": [
    {
     "name": "stdout",
     "output_type": "stream",
     "text": [
      "1/1 [==============================] - 1s 745ms/step\n"
     ]
    }
   ],
   "source": [
    "dataset_itterator=text.as_numpy_iterator()\n",
    "batch=dataset_itterator.next()\n",
    "y_pred = model.predict(batch[0])"
   ]
  },
  {
   "cell_type": "code",
   "execution_count": 96,
   "id": "32458261",
   "metadata": {},
   "outputs": [
    {
     "data": {
      "text/plain": [
       "array([9.9999976e-01, 2.0551471e-07, 2.3228765e-10], dtype=float32)"
      ]
     },
     "execution_count": 96,
     "metadata": {},
     "output_type": "execute_result"
    }
   ],
   "source": [
    "y_pred[6]"
   ]
  },
  {
   "cell_type": "code",
   "execution_count": 73,
   "id": "9c038f51",
   "metadata": {},
   "outputs": [],
   "source": [
    "from tensorflow.keras.metrics import SparseCategoricalAccuracy,Accuracy,Recall,Precision"
   ]
  },
  {
   "cell_type": "code",
   "execution_count": 74,
   "id": "3f640ed5",
   "metadata": {},
   "outputs": [],
   "source": [
    "pre=Precision()\n",
    "re=Recall()\n",
    "sca=SparseCategoricalAccuracy()\n",
    "    "
   ]
  },
  {
   "cell_type": "code",
   "execution_count": null,
   "id": "8eb2c110",
   "metadata": {},
   "outputs": [],
   "source": []
  },
  {
   "cell_type": "code",
   "execution_count": null,
   "id": "43d0c0ae",
   "metadata": {},
   "outputs": [],
   "source": []
  },
  {
   "cell_type": "code",
   "execution_count": null,
   "id": "967de0e4",
   "metadata": {},
   "outputs": [],
   "source": []
  },
  {
   "cell_type": "code",
   "execution_count": null,
   "id": "2ad7155c",
   "metadata": {},
   "outputs": [],
   "source": []
  },
  {
   "cell_type": "code",
   "execution_count": 113,
   "id": "716d5fbe",
   "metadata": {},
   "outputs": [],
   "source": [
    "from sklearn.metrics import precision_score\n",
    "import numpy as np"
   ]
  },
  {
   "cell_type": "code",
   "execution_count": 120,
   "id": "de53c96c",
   "metadata": {},
   "outputs": [
    {
     "name": "stdout",
     "output_type": "stream",
     "text": [
      "1/1 [==============================] - 0s 499ms/step\n",
      "[0 0 0 1 0 0 2 2 0 0 2 0 1 2 0 1 1 0 1 2 0 1 1 2 0 2 2 2 1 0 2 1]\n",
      "[0 0 0 1 0 0 2 2 0 0 2 0 1 2 0 1 1 0 1 2 0 1 1 2 0 2 2 2 1 0 2 1]\n",
      "Precision for each class: [1. 1. 1.]\n",
      "1/1 [==============================] - 0s 474ms/step\n",
      "[1 1 0 1 2 1 1 1 1 2 1 2 0 1 2 0 0 0 1 0 2 0 1 1 2 0 2 0 2 1 0 0]\n",
      "[1 1 0 1 2 1 1 1 1 2 1 2 0 1 2 0 0 0 1 0 2 0 1 1 2 0 2 0 2 1 0 0]\n",
      "Precision for each class: [1. 1. 1.]\n",
      "1/1 [==============================] - 0s 466ms/step\n",
      "[0 2 0 0 1 0 1 2 0 1 0 0 2 2 2 1 2 2 2 0 1 1 1 2 1 0 1 1 1 0 2 2]\n",
      "[0 2 0 0 1 0 1 2 0 1 0 0 2 2 2 1 2 2 2 0 1 1 1 2 1 0 1 1 1 0 2 2]\n",
      "Precision for each class: [1. 1. 1.]\n",
      "1/1 [==============================] - 0s 383ms/step\n",
      "[1 0 1 0 2 2 2 1 2 2 2 2 2 2 1 2 0 2 1 1 0 2 0 1]\n",
      "[1 0 1 0 2 2 2 1 2 2 2 2 2 2 1 2 0 2 1 1 0 2 0 1]\n",
      "Precision for each class: [1. 1. 1.]\n"
     ]
    }
   ],
   "source": [
    "for batch in text.as_numpy_iterator():\n",
    "    x,y=batch\n",
    "    predicted_probabilities=model.predict(x)\n",
    "    predicted_labels = np.argmax(predicted_probabilities, axis=1) \n",
    "    print(y)\n",
    "    print(predicted_labels)\n",
    "    precision = precision_score(y, predicted_labels, average=None)\n",
    "    print(\"Precision for each class:\", precision)\n"
   ]
  },
  {
   "cell_type": "code",
   "execution_count": 121,
   "id": "a373d428",
   "metadata": {},
   "outputs": [
    {
     "name": "stdout",
     "output_type": "stream",
     "text": [
      "1/1 [==============================] - 1s 544ms/step\n",
      "[1 0 0 2 2 0 0 1 2 2 1 2 0 0 0 1 2 2 1 0 2 1 0 1 1 1 0 2 2 0 0 2]\n",
      "[1 0 0 2 2 0 0 1 2 2 1 2 0 0 0 1 2 2 1 0 2 1 0 1 1 1 0 2 2 0 0 2]\n",
      "Precision for each class: [1. 1. 1.]\n",
      "Recall for each class: [1. 1. 1.]\n",
      "F1 score for each class: [1. 1. 1.]\n",
      "1/1 [==============================] - 1s 585ms/step\n",
      "[1 0 0 0 2 2 2 1 2 2 2 2 1 0 2 1 2 1 2 2 1 0 2 0 1 0 0 0 0 1 0 2]\n",
      "[1 0 0 0 2 2 2 1 2 2 2 2 1 0 2 1 2 1 2 2 1 0 2 0 1 0 0 0 0 1 0 2]\n",
      "Precision for each class: [1. 1. 1.]\n",
      "Recall for each class: [1. 1. 1.]\n",
      "F1 score for each class: [1. 1. 1.]\n",
      "1/1 [==============================] - 1s 596ms/step\n",
      "[0 2 0 0 2 0 1 0 0 0 1 1 0 1 1 0 1 0 2 1 1 2 1 0 0 1 2 0 1 1 2 2]\n",
      "[0 2 0 0 2 0 1 0 0 0 1 1 0 1 1 0 1 0 2 1 1 2 1 0 0 1 2 0 1 1 2 2]\n",
      "Precision for each class: [1. 1. 1.]\n",
      "Recall for each class: [1. 1. 1.]\n",
      "F1 score for each class: [1. 1. 1.]\n",
      "1/1 [==============================] - 0s 404ms/step\n",
      "[1 2 1 1 0 1 2 2 2 1 1 0 2 2 0 2 2 2 1 0 0 1 2 0]\n",
      "[1 2 1 1 0 1 2 2 2 1 1 0 2 2 0 2 2 2 1 0 0 1 2 0]\n",
      "Precision for each class: [1. 1. 1.]\n",
      "Recall for each class: [1. 1. 1.]\n",
      "F1 score for each class: [1. 1. 1.]\n"
     ]
    }
   ],
   "source": [
    "for batch in text.as_numpy_iterator():\n",
    "    x,y=batch\n",
    "    predicted_probabilities=model.predict(x)\n",
    "    predicted_labels = np.argmax(predicted_probabilities, axis=1) \n",
    "    print(y)\n",
    "    print(predicted_labels)\n",
    "    precision = precision_score(y, predicted_labels, average=None)\n",
    "    recall = recall_score(y, predicted_labels, average=None)\n",
    "    f1 = f1_score(y, predicted_labels, average=None)\n",
    "\n",
    "    print(\"Precision for each class:\", precision)\n",
    "    print(\"Recall for each class:\", recall)\n",
    "    print(\"F1 score for each class:\", f1)"
   ]
  },
  {
   "cell_type": "code",
   "execution_count": null,
   "id": "2ec33581",
   "metadata": {},
   "outputs": [],
   "source": []
  },
  {
   "cell_type": "code",
   "execution_count": 124,
   "id": "3f49f642",
   "metadata": {},
   "outputs": [],
   "source": [
    "model.save(\"hand_gesture_train_model.h5\")"
   ]
  },
  {
   "cell_type": "code",
   "execution_count": null,
   "id": "a430a822",
   "metadata": {},
   "outputs": [],
   "source": []
  },
  {
   "cell_type": "code",
   "execution_count": null,
   "id": "a35f7879",
   "metadata": {},
   "outputs": [],
   "source": []
  }
 ],
 "metadata": {
  "kernelspec": {
   "display_name": "myenv",
   "language": "python",
   "name": "myenv"
  },
  "language_info": {
   "codemirror_mode": {
    "name": "ipython",
    "version": 3
   },
   "file_extension": ".py",
   "mimetype": "text/x-python",
   "name": "python",
   "nbconvert_exporter": "python",
   "pygments_lexer": "ipython3",
   "version": "3.10.0"
  }
 },
 "nbformat": 4,
 "nbformat_minor": 5
}
